{
 "cells": [
  {
   "cell_type": "markdown",
   "metadata": {},
   "source": [
    "## Utilize machine learning to classify cells in the mouse brain. "
   ]
  },
  {
   "cell_type": "markdown",
   "metadata": {},
   "source": [
    "1. Choose two sections and collect expression data into train and test\n",
    "\n",
    "expr_train = adata.X[adata.obs['Slice']=='your fav slice',:].toarray()\n",
    "\n",
    "expr_test = adata.X[adata.obs['Slice']=='your fav slice +1',:].toarray()\n",
    "\n",
    "2. Collect corresponding labels\n",
    "\n",
    "3. Chose a machine learning framework and train your classifier using  one slice and test it on another. \n",
    "\n",
    "4. Experiment with different approaches w/o dim reduction. \n",
    "\n",
    "4. Compare your classification results acorss the different types of cell types.  "
   ]
  },
  {
   "cell_type": "markdown",
   "metadata": {},
   "source": []
  }
 ],
 "metadata": {
  "language_info": {
   "name": "python"
  }
 },
 "nbformat": 4,
 "nbformat_minor": 2
}
