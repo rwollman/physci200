{
 "cells": [
  {
   "cell_type": "markdown",
   "metadata": {},
   "source": [
    "## Utilize machine learning to classify cells in the mouse brain. "
   ]
  },
  {
   "cell_type": "markdown",
   "metadata": {},
   "source": [
    "1. Choose two sections and collect expression data into train and test\n",
    "\n",
    "expr_train = adata.X[adata.obs['Slice']=='your fav slice',:].toarray()\n",
    "\n",
    "expr_test = adata.X[adata.obs['Slice']=='your fav slice +1',:].toarray()\n",
    "\n",
    "2. Collect corresponding labels (try this on 'class' and 'subclass')\n",
    "\n",
    "3. Chose three machine learning frameworks and train your classifier. \n",
    "    3.a Initially do that only using the training slice where you FURTHER splots it into train and test\n",
    "    3.b evaluate both on the same slice test and on another slice as a test\n",
    "\n",
    "4. Experiment with different scaling and w/o dim reduction. \n",
    "\n",
    "5. Compare your classification results acorss the different types of cell types.  \n",
    "\n",
    "The overall goal is to create the best machine learning framework to predict cell types. How good is the \"best\" machine you could create? What does that imply towards the reliability of cell types in this atlas? "
   ]
  },
  {
   "cell_type": "markdown",
   "metadata": {},
   "source": []
  }
 ],
 "metadata": {
  "language_info": {
   "name": "python"
  }
 },
 "nbformat": 4,
 "nbformat_minor": 2
}
