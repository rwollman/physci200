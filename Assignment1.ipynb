{
 "cells": [
  {
   "cell_type": "markdown",
   "metadata": {},
   "source": [
    "## Goal: Create compeling data vizualization of brain atlas data"
   ]
  },
  {
   "cell_type": "markdown",
   "metadata": {},
   "source": [
    "1. In a NEW notebook, load the data using anndata (see notebook 03)\n",
    "2. Create some preliminary plots, find an aspect of the data you are curious about\n",
    "3. Create targeted plots that identify key aspets of the data \n",
    "4. Experiment with multiple plot types "
   ]
  },
  {
   "cell_type": "markdown",
   "metadata": {},
   "source": [
    "### Questions about the data\n",
    "\n",
    "1. Where are the different cell types? What vizualization would be the best to show that? \n",
    "\n",
    "2. What fraction of the genes are expressed? Per cell? Per type? \n",
    "\n",
    "3. Are genes on/off are are there more subpopulation in the \"on\" state\"? \n",
    "\n",
    "4. Do genes in this panel have similar expression level? How would you look at it? \n",
    "\n",
    "5. What is the gene expression profile for the different cell types? What type of viz would be best to see that? \n",
    "\n",
    "6. How well can you identify cell types if you approximate gene expression to on/off \n",
    "\n",
    "7. Are there genes with similar expression pattern? How would you look at it? \n",
    "\n",
    "8. For different cell types, how similar are cells to in other in that type (similar = correlated expression)\n",
    "\n",
    "9. Of the five levels of cell types provided, which one do you find to be the most informative about spatial brain organization? Why? What plots would help the most deciding this? \n",
    "\n",
    "10. What spatial resolution is needed to show expression patterns in the brain? How would you address this question? What would you look at? "
   ]
  },
  {
   "cell_type": "markdown",
   "metadata": {},
   "source": [
    "### Last day goals\n",
    "\n",
    "1. Define your dataviz goals - The first sentence of the figure legends. \n",
    "This is some assertion based on what you found. \n",
    "\n",
    "2. Create multiple panels that collectively provide evidence to the assertion you made. \n",
    "\n",
    "3. Make sure that these panels make sense and are presenting a coherence view of the data. \n",
    "\n",
    "4. Write a short figure legend that describes these panels. \n",
    "\n",
    "5. Send it to your PI to show-off what you can now do :) "
   ]
  },
  {
   "cell_type": "code",
   "execution_count": null,
   "metadata": {},
   "outputs": [],
   "source": []
  }
 ],
 "metadata": {
  "kernelspec": {
   "display_name": "physci200",
   "language": "python",
   "name": "python3"
  },
  "language_info": {
   "codemirror_mode": {
    "name": "ipython",
    "version": 3
   },
   "file_extension": ".py",
   "mimetype": "text/x-python",
   "name": "python",
   "nbconvert_exporter": "python",
   "pygments_lexer": "ipython3",
   "version": "3.11.7"
  }
 },
 "nbformat": 4,
 "nbformat_minor": 2
}
