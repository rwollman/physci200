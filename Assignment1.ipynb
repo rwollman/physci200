{
 "cells": [
  {
   "cell_type": "markdown",
   "metadata": {},
   "source": [
    "## Goal: Create compeling data vizualization of brain atlas data"
   ]
  },
  {
   "cell_type": "markdown",
   "metadata": {},
   "source": [
    "1. In a NEW notebook, load the data using anndata (see notebook 03)\n",
    "2. Create some preliminary plots, find an aspect of the data you are curious about\n",
    "3. Create targeted plots that identify key aspets of the data \n",
    "4. Experiment with multiple plot types "
   ]
  },
  {
   "cell_type": "markdown",
   "metadata": {},
   "source": []
  }
 ],
 "metadata": {
  "kernelspec": {
   "display_name": "physci200",
   "language": "python",
   "name": "python3"
  },
  "language_info": {
   "name": "python",
   "version": "3.12.0"
  }
 },
 "nbformat": 4,
 "nbformat_minor": 2
}
