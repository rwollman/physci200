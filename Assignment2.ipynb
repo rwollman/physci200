{
 "cells": [
  {
   "cell_type": "markdown",
   "metadata": {},
   "source": [
    "## Assignemnt #2 - find genes with differential gene expression patterns. \n",
    "\n",
    "We want to find the genes that have statistically significant patterns of their gene expression levels. \n",
    "\n",
    "Define a measure that captures the idea of spatially varying gene expression. Think about it, there are many ways to do that. \n",
    "\n",
    "Hint: If expression pattern is uniform, what do you expect from two cells that are neighbors compared to cells that are not? \n",
    "\n",
    "Repeat your analysis taking into account cell types \n"
   ]
  },
  {
   "cell_type": "markdown",
   "metadata": {},
   "source": [
    "### Useful tool - KNN distances\n",
    "\n",
    "to find if expression patterns are local you need to know which cells are the neighbors of a given cell. \n",
    "We do that with sklean package (k nearest neighbors)"
   ]
  },
  {
   "cell_type": "code",
   "execution_count": 6,
   "metadata": {},
   "outputs": [],
   "source": [
    "import numpy as np\n",
    "from sklearn.neighbors import NearestNeighbors\n",
    "np.random.seed(0)\n",
    "\n",
    "mu, sigma = 10, 5\n",
    "xy = np.random.normal(mu, sigma, (100, 2))\n",
    "\n",
    "\n",
    "k = 5  # or any other number you prefer\n",
    "nbrs = NearestNeighbors(n_neighbors=k, algorithm='ball_tree').fit(xy)\n",
    "distances, indices = nbrs.kneighbors(xy)"
   ]
  },
  {
   "cell_type": "code",
   "execution_count": 2,
   "metadata": {},
   "outputs": [
    {
     "data": {
      "text/plain": [
       "array([[0.        , 0.10031233, 0.17354638, 0.33683095, 0.42193949],\n",
       "       [0.        , 0.22299133, 0.26091184, 0.35778274, 0.61538469],\n",
       "       [0.        , 1.76534673, 2.27033892, 2.37712608, 2.43643506],\n",
       "       ...,\n",
       "       [0.        , 0.02609462, 0.34825978, 0.38385796, 0.43303073],\n",
       "       [0.        , 0.18071092, 0.69765965, 0.80616595, 0.93103888],\n",
       "       [0.        , 0.20569891, 0.30451583, 0.32036085, 0.51223411]])"
      ]
     },
     "execution_count": 2,
     "metadata": {},
     "output_type": "execute_result"
    }
   ],
   "source": [
    "distances"
   ]
  },
  {
   "cell_type": "code",
   "execution_count": 3,
   "metadata": {},
   "outputs": [
    {
     "data": {
      "text/plain": [
       "array([[  0, 788, 226, 965, 336],\n",
       "       [  1, 959, 614, 445, 444],\n",
       "       [  2, 204, 494, 412, 746],\n",
       "       ...,\n",
       "       [997,  38, 953, 549, 214],\n",
       "       [998, 403, 282, 831, 185],\n",
       "       [999, 773, 754, 938, 118]])"
      ]
     },
     "execution_count": 3,
     "metadata": {},
     "output_type": "execute_result"
    }
   ],
   "source": [
    "indices"
   ]
  },
  {
   "cell_type": "code",
   "execution_count": 9,
   "metadata": {},
   "outputs": [
    {
     "data": {
      "image/png": "[encoded data removed]",
      "text/plain": [
       "<Figure size 640x480 with 1 Axes>"
      ]
     },
     "metadata": {},
     "output_type": "display_data"
    }
   ],
   "source": [
    "import matplotlib.pyplot as plt\n",
    "\n",
    "focal_points=32\n",
    "\n",
    "plt.scatter(xy[:, 0], xy[:, 1])\n",
    "plt.scatter(xy[focal_points, 0], xy[focal_points, 1], color='red')\n",
    "\n",
    "for i in indices[focal_points]:\n",
    "    plt.plot([xy[focal_points, 0], xy[i, 0]], [xy[focal_points, 1], xy[i, 1]], 'r-')\n",
    "\n",
    "plt.show()\n"
   ]
  },
  {
   "cell_type": "code",
   "execution_count": null,
   "metadata": {},
   "outputs": [],
   "source": []
  }
 ],
 "metadata": {
  "kernelspec": {
   "display_name": "physci200",
   "language": "python",
   "name": "python3"
  },
  "language_info": {
   "codemirror_mode": {
    "name": "ipython",
    "version": 3
   },
   "file_extension": ".py",
   "mimetype": "text/x-python",
   "name": "python",
   "nbconvert_exporter": "python",
   "pygments_lexer": "ipython3",
   "version": "3.11.7"
  }
 },
 "nbformat": 4,
 "nbformat_minor": 2
}
