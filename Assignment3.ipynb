{
 "cells": [
  {
   "cell_type": "markdown",
   "metadata": {},
   "source": [
    "## Perform dimensionality reduction and cluster analysis on expression data from the Whole Brain Atlas expression data"
   ]
  },
  {
   "cell_type": "markdown",
   "metadata": {},
   "source": [
    "1. Collect the expression data from a single section : \n",
    "\n",
    "exprs = adata.X[adata.obs['Slice']=='your fav slice',:].toarray()\n",
    "\n",
    "\n",
    "2. Filter out columns - \n",
    "apply a filtering criterion of your choice (max, 95%, mean, etc) to all columns, look at histogram, chose cutoff, remove cols, \n",
    "\n",
    "3. Decide if / how to transform your data (log(x+1) / z-score)\n",
    "\n",
    "4. Perform PCA\n",
    "Look at scree plot and chose how many PCs you want to use moving forwrard. \n",
    "\n",
    "5. Look at heatmaps of your data (sns.clustermap)\n",
    "\n",
    "6. Cluster\n",
    "\n",
    "7. Vizualize your cluster in space - do they make sense? "
   ]
  },
  {
   "cell_type": "markdown",
   "metadata": {},
   "source": []
  }
 ],
 "metadata": {
  "language_info": {
   "name": "python"
  }
 },
 "nbformat": 4,
 "nbformat_minor": 2
}
